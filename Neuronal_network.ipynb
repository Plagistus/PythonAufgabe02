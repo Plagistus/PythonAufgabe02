{
  "nbformat": 4,
  "nbformat_minor": 0,
  "metadata": {
    "colab": {
      "name": "Neuronal network.ipynb",
      "provenance": [],
      "collapsed_sections": [],
      "authorship_tag": "ABX9TyM82k/iBL/UWjksvIiEuB59",
      "include_colab_link": true
    },
    "kernelspec": {
      "name": "python3",
      "display_name": "Python 3"
    },
    "language_info": {
      "name": "python"
    }
  },
  "cells": [
    {
      "cell_type": "markdown",
      "metadata": {
        "id": "view-in-github",
        "colab_type": "text"
      },
      "source": [
        "<a href=\"https://colab.research.google.com/github/Plagistus/PythonAufgabe02/blob/master/Neuronal_network.ipynb\" target=\"_parent\"><img src=\"https://colab.research.google.com/assets/colab-badge.svg\" alt=\"Open In Colab\"/></a>"
      ]
    },
    {
      "cell_type": "code",
      "metadata": {
        "id": "tXX76i_-IFQc"
      },
      "source": [
        "import numpy as np\n",
        "from sklearn.model_selection import train_test_split\n",
        "from sklearn import datasets"
      ],
      "execution_count": 1,
      "outputs": []
    },
    {
      "cell_type": "code",
      "metadata": {
        "id": "WOtLbVRDKzhr"
      },
      "source": [
        "from sklearn.neural_network import MLPClassifier\n",
        "from sklearn.preprocessing import StandardScaler"
      ],
      "execution_count": 2,
      "outputs": []
    },
    {
      "cell_type": "code",
      "metadata": {
        "id": "YvllQQ12K2cM"
      },
      "source": [
        "from matplotlib import pyplot as plt\n",
        "from matplotlib.colors import ListedColormap"
      ],
      "execution_count": 27,
      "outputs": []
    },
    {
      "cell_type": "code",
      "metadata": {
        "id": "8hRhjwdsIFrd"
      },
      "source": [
        "iris = datasets.load_iris()"
      ],
      "execution_count": 4,
      "outputs": []
    },
    {
      "cell_type": "code",
      "metadata": {
        "id": "OTuqVCDGIGri"
      },
      "source": [
        "X = iris.data[:, :2]  # sepal width and sepal length\n",
        "y = iris.target  # classes \n",
        "\n",
        "#setting the \"quality\" of the plots\n",
        "h= .02"
      ],
      "execution_count": 5,
      "outputs": []
    },
    {
      "cell_type": "code",
      "metadata": {
        "id": "lvtegRZxILJL"
      },
      "source": [
        "X_train, X_test, y_train, y_test = train_test_split(X, y, test_size=.1, random_state=40)"
      ],
      "execution_count": 6,
      "outputs": []
    },
    {
      "cell_type": "code",
      "metadata": {
        "id": "ENDUf0aXIMbQ"
      },
      "source": [
        "#normalize the data\n",
        "scaler = StandardScaler()\n",
        "scaler.fit(X_train)\n",
        "X_train = scaler.transform(X_train)\n",
        "X_test = scaler.transform(X_test)"
      ],
      "execution_count": 22,
      "outputs": []
    },
    {
      "cell_type": "code",
      "metadata": {
        "colab": {
          "base_uri": "https://localhost:8080/"
        },
        "id": "2W4RTzdMIOph",
        "outputId": "951fa18b-6ee1-4e73-f325-c6a83751a43c"
      },
      "source": [
        "# show that we have only 3 classes, e.g. the Blumes\n",
        "print(\"Unique labes: {0}\".format(np.unique(y)))"
      ],
      "execution_count": 8,
      "outputs": [
        {
          "output_type": "stream",
          "text": [
            "Unique labes: [0 1 2]\n"
          ],
          "name": "stdout"
        }
      ]
    },
    {
      "cell_type": "code",
      "metadata": {
        "colab": {
          "base_uri": "https://localhost:8080/",
          "height": 974
        },
        "id": "xlBHdIX8IP9O",
        "outputId": "a10e3eda-c91a-4b50-fc1a-e5e064911a85"
      },
      "source": [
        "#array for three different neurons (hidden layers)\n",
        "neuron_range = [1, 3, 5]\n",
        "\n",
        "cmap_bold = ListedColormap(['#FFAAAA', '#AAFFAA','#00AAFF'])\n",
        "cmap_light = ListedColormap(['#FF0000', '#00FF00','#00AAFF'])\n",
        "\n",
        "\n",
        "for n in neuron_range:\n",
        "    classifier = MLPClassifier(solver='lbfgs', # standard is ada, but that is only for big datasets\n",
        "                               max_iter=200, \n",
        "                               hidden_layer_sizes=n, \n",
        "                               learning_rate_init=.1, \n",
        "                               random_state=40).fit(X_train, y_train)\n",
        "    \n",
        "    print(f\"Classifier predict: {classifier.predict(X_test)}\")\n",
        "    print(f\"Neuronen: {n}, Score: {round(classifier.score(X_test, y_test) * 100,2)} %\")\n",
        "    \n",
        "    #calculate min, max and limits\n",
        "    x_min, x_max = X_test[:, 0].min() - 1, X_test[:, 0].max() + 1\n",
        "    y_min, y_max = X_test[:, 1].min() - 1, X_test[:, 1].max() + 1\n",
        "    xx, yy = np.meshgrid(np.arange(x_min, x_max, h),\n",
        "                         np.arange(y_min, y_max, h))\n",
        "\n",
        "\n",
        "    #Put the result into a color plot\n",
        "    snooby = np.c_[xx.ravel(), yy.ravel()]\n",
        "    print(f\" Hier ist ein shape {snooby.shape}\")\n",
        "    Z = classifier.predict(snooby)\n",
        "   \n",
        "    #Hintergrundfarbe\n",
        "    Z = Z.reshape(xx.shape)\n",
        "    plt.figure()\n",
        "    plt.pcolormesh(xx, yy, pred, cmap=cmap_bold, shading='auto')\n",
        "\n",
        "    #Farbe und ausgabe für die Points\n",
        "    plt.scatter(X_test[:, 0], X_test[:, 1], c=y_test, cmap=cmap_light, edgecolors='#000000')\n",
        "    plt.xlim(xx.min(), xx.max())\n",
        "    plt.ylim(yy.min(), yy.max())\n",
        "    plt.title(\n",
        "        f\"3-Class classification (hidden_layer_neuronen = {n}), accuracy: {round(classifier.score(X_test, y_test) * 100, 2)} %\")\n",
        "    plt.show()"
      ],
      "execution_count": 32,
      "outputs": [
        {
          "output_type": "stream",
          "text": [
            "Classifier predict: [0 1 1 2 1 1 2 1 1 0 1 0 0 2 1]\n",
            "Neuronen: 1, Score: 80.0 %\n",
            " Hier ist ein shape (85215, 2)\n"
          ],
          "name": "stdout"
        },
        {
          "output_type": "display_data",
          "data": {
            "image/png": "[encoded data removed]",
            "text/plain": [
              "<Figure size 432x288 with 1 Axes>"
            ]
          },
          "metadata": {
            "tags": [],
            "needs_background": "light"
          }
        },
        {
          "output_type": "stream",
          "text": [
            "Classifier predict: [0 1 2 2 1 2 1 1 1 0 1 0 0 1 1]\n",
            "Neuronen: 3, Score: 93.33 %\n",
            " Hier ist ein shape (85215, 2)\n"
          ],
          "name": "stdout"
        },
        {
          "output_type": "display_data",
          "data": {
            "image/png": "[encoded data removed]",
            "text/plain": [
              "<Figure size 432x288 with 1 Axes>"
            ]
          },
          "metadata": {
            "tags": [],
            "needs_background": "light"
          }
        },
        {
          "output_type": "stream",
          "text": [
            "Classifier predict: [0 1 2 2 1 2 1 1 1 0 1 0 0 1 1]\n",
            "Neuronen: 5, Score: 93.33 %\n",
            " Hier ist ein shape (85215, 2)\n"
          ],
          "name": "stdout"
        },
        {
          "output_type": "display_data",
          "data": {
            "image/png": "[encoded data removed]",
            "text/plain": [
              "<Figure size 432x288 with 1 Axes>"
            ]
          },
          "metadata": {
            "tags": [],
            "needs_background": "light"
          }
        }
      ]
    }
  ]
}